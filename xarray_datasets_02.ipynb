{
 "cells": [
  {
   "cell_type": "markdown",
   "id": "917198dd",
   "metadata": {},
   "source": [
    "# Datasets and grouping \n",
    "\n",
    "The functionality we have covered so far is fantastic, but what if we want to group arrays together in some kind of coherent way?\n",
    "\n",
    "Don't worry `xarray` has us covered with a `Dataset`. Lets make a few arrays and combine them in a dataset, this time using a more realistic example of coordinates, variables and metadata.\n"
   ]
  },
  {
   "cell_type": "code",
   "execution_count": 3,
   "id": "9a3f632e",
   "metadata": {},
   "outputs": [
    {
     "ename": "SyntaxError",
     "evalue": "invalid syntax (_pyroot.py, line 72)",
     "output_type": "error",
     "traceback": [
      "Traceback \u001b[0;36m(most recent call last)\u001b[0m:\n",
      "  File \u001b[1;32m\"/Users/hugo/opt/anaconda3/envs/flow/lib/python3.7/site-packages/IPython/core/interactiveshell.py\"\u001b[0m, line \u001b[1;32m3524\u001b[0m, in \u001b[1;35mrun_code\u001b[0m\n    exec(code_obj, self.user_global_ns, self.user_ns)\n",
      "  File \u001b[1;32m\"/var/folders/pj/lpgbmz6n0792907sktffcltm0000gn/T/ipykernel_3192/1264431263.py\"\u001b[0m, line \u001b[1;32m1\u001b[0m, in \u001b[1;35m<module>\u001b[0m\n    import pyroot\n",
      "\u001b[0;36m  File \u001b[0;32m\"/Users/hugo/opt/anaconda3/envs/flow/lib/python3.7/site-packages/pyroot/__init__.py\"\u001b[0;36m, line \u001b[0;32m40\u001b[0;36m, in \u001b[0;35m<module>\u001b[0;36m\u001b[0m\n\u001b[0;31m    from ._pyroot import *\u001b[0m\n",
      "\u001b[0;36m  File \u001b[0;32m\"/Users/hugo/opt/anaconda3/envs/flow/lib/python3.7/site-packages/pyroot/_pyroot.py\"\u001b[0;36m, line \u001b[0;32m72\u001b[0m\n\u001b[0;31m    def arithmetic_mean(x: float, y: float, /) -> float:\u001b[0m\n\u001b[0m                                            ^\u001b[0m\n\u001b[0;31mSyntaxError\u001b[0m\u001b[0;31m:\u001b[0m invalid syntax\n"
     ]
    }
   ],
   "source": [
    "import "
   ]
  },
  {
   "cell_type": "code",
   "execution_count": null,
   "id": "7758cdcb",
   "metadata": {},
   "outputs": [],
   "source": []
  }
 ],
 "metadata": {
  "kernelspec": {
   "display_name": "Python 3.7.6 64-bit ('flow': conda)",
   "language": "python",
   "name": "python37664bitflowconda916825a609374de59ee6a8ae8291fb27"
  },
  "language_info": {
   "codemirror_mode": {
    "name": "ipython",
    "version": 3
   },
   "file_extension": ".py",
   "mimetype": "text/x-python",
   "name": "python",
   "nbconvert_exporter": "python",
   "pygments_lexer": "ipython3",
   "version": "3.7.12"
  }
 },
 "nbformat": 4,
 "nbformat_minor": 5
}
