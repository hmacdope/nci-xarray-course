{
 "cells": [
  {
   "cell_type": "markdown",
   "id": "b3bd2eed",
   "metadata": {},
   "source": [
    "# xarray challenge!"
   ]
  },
  {
   "cell_type": "code",
   "execution_count": null,
   "id": "7c9bbd71",
   "metadata": {},
   "outputs": [],
   "source": []
  }
 ],
 "metadata": {
  "kernelspec": {
   "display_name": "nci",
   "language": "python",
   "name": "nci"
  },
  "language_info": {
   "codemirror_mode": {
    "name": "ipython",
    "version": 3
   },
   "file_extension": ".py",
   "mimetype": "text/x-python",
   "name": "python",
   "nbconvert_exporter": "python",
   "pygments_lexer": "ipython3",
   "version": "3.9.12"
  }
 },
 "nbformat": 4,
 "nbformat_minor": 5
}
